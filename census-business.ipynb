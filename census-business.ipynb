{
 "cells": [
  {
   "cell_type": "code",
   "execution_count": 1,
   "metadata": {},
   "outputs": [
    {
     "data": {
      "text/html": [
       "<div>\n",
       "<style scoped>\n",
       "    .dataframe tbody tr th:only-of-type {\n",
       "        vertical-align: middle;\n",
       "    }\n",
       "\n",
       "    .dataframe tbody tr th {\n",
       "        vertical-align: top;\n",
       "    }\n",
       "\n",
       "    .dataframe thead th {\n",
       "        text-align: right;\n",
       "    }\n",
       "</style>\n",
       "<table border=\"1\" class=\"dataframe\">\n",
       "  <thead>\n",
       "    <tr style=\"text-align: right;\">\n",
       "      <th></th>\n",
       "      <th>GEO_ID</th>\n",
       "      <th>NAME</th>\n",
       "      <th>NAICS2017</th>\n",
       "      <th>NAICS2017_LABEL</th>\n",
       "      <th>OWNER_SEX</th>\n",
       "      <th>OWNER_SEX_LABEL</th>\n",
       "      <th>OWNER_ETH</th>\n",
       "      <th>OWNER_ETH_LABEL</th>\n",
       "      <th>OWNER_RACE</th>\n",
       "      <th>OWNER_RACE_LABEL</th>\n",
       "      <th>...</th>\n",
       "      <th>OWNPDEMP</th>\n",
       "      <th>OWNPDEMP_F</th>\n",
       "      <th>OWNPDEMP_PCT</th>\n",
       "      <th>OWNPDEMP_PCT_F</th>\n",
       "      <th>OWNPDEMP_S</th>\n",
       "      <th>OWNPDEMP_S_F</th>\n",
       "      <th>OWNPDEMP_PCT_S</th>\n",
       "      <th>OWNPDEMP_PCT_S_F</th>\n",
       "      <th>QDESC_LABEL</th>\n",
       "      <th>us</th>\n",
       "    </tr>\n",
       "  </thead>\n",
       "  <tbody>\n",
       "    <tr>\n",
       "      <th>1</th>\n",
       "      <td>0100000US</td>\n",
       "      <td>United States</td>\n",
       "      <td>00</td>\n",
       "      <td>Total for all sectors</td>\n",
       "      <td>001</td>\n",
       "      <td>All owners of respondent firms</td>\n",
       "      <td>001</td>\n",
       "      <td>All owners of respondent firms</td>\n",
       "      <td>40</td>\n",
       "      <td>Black or African American</td>\n",
       "      <td>...</td>\n",
       "      <td>21939</td>\n",
       "      <td>None</td>\n",
       "      <td>29.9</td>\n",
       "      <td>None</td>\n",
       "      <td>5.1</td>\n",
       "      <td>None</td>\n",
       "      <td>1.2</td>\n",
       "      <td>None</td>\n",
       "      <td>YRACQBUS</td>\n",
       "      <td>1</td>\n",
       "    </tr>\n",
       "  </tbody>\n",
       "</table>\n",
       "<p>1 rows × 27 columns</p>\n",
       "</div>"
      ],
      "text/plain": [
       "0     GEO_ID           NAME NAICS2017        NAICS2017_LABEL OWNER_SEX  \\\n",
       "1  0100000US  United States        00  Total for all sectors       001   \n",
       "\n",
       "0                 OWNER_SEX_LABEL OWNER_ETH                 OWNER_ETH_LABEL  \\\n",
       "1  All owners of respondent firms       001  All owners of respondent firms   \n",
       "\n",
       "0 OWNER_RACE           OWNER_RACE_LABEL  ... OWNPDEMP OWNPDEMP_F OWNPDEMP_PCT  \\\n",
       "1         40  Black or African American  ...    21939       None         29.9   \n",
       "\n",
       "0 OWNPDEMP_PCT_F OWNPDEMP_S OWNPDEMP_S_F OWNPDEMP_PCT_S OWNPDEMP_PCT_S_F  \\\n",
       "1           None        5.1         None            1.2             None   \n",
       "\n",
       "0 QDESC_LABEL us  \n",
       "1    YRACQBUS  1  \n",
       "\n",
       "[1 rows x 27 columns]"
      ]
     },
     "execution_count": 1,
     "metadata": {},
     "output_type": "execute_result"
    }
   ],
   "source": [
    "import pandas as pd\n",
    "owner = pd.read_json('business-owner.json')\n",
    "owner.columns = owner.iloc[0]\n",
    "owner = owner[1:]\n",
    "owner.columns\n",
    "owner.head(1)"
   ]
  },
  {
   "cell_type": "code",
   "execution_count": 2,
   "metadata": {},
   "outputs": [
    {
     "data": {
      "text/html": [
       "<div>\n",
       "<style scoped>\n",
       "    .dataframe tbody tr th:only-of-type {\n",
       "        vertical-align: middle;\n",
       "    }\n",
       "\n",
       "    .dataframe tbody tr th {\n",
       "        vertical-align: top;\n",
       "    }\n",
       "\n",
       "    .dataframe thead th {\n",
       "        text-align: right;\n",
       "    }\n",
       "</style>\n",
       "<table border=\"1\" class=\"dataframe\">\n",
       "  <thead>\n",
       "    <tr style=\"text-align: right;\">\n",
       "      <th></th>\n",
       "      <th>OWNER_VET</th>\n",
       "      <th>OWNPDEMP</th>\n",
       "    </tr>\n",
       "  </thead>\n",
       "  <tbody>\n",
       "    <tr>\n",
       "      <th>9664</th>\n",
       "      <td>001</td>\n",
       "      <td>290</td>\n",
       "    </tr>\n",
       "    <tr>\n",
       "      <th>9665</th>\n",
       "      <td>001</td>\n",
       "      <td>909</td>\n",
       "    </tr>\n",
       "    <tr>\n",
       "      <th>9666</th>\n",
       "      <td>001</td>\n",
       "      <td>1000</td>\n",
       "    </tr>\n",
       "    <tr>\n",
       "      <th>9667</th>\n",
       "      <td>001</td>\n",
       "      <td>594</td>\n",
       "    </tr>\n",
       "    <tr>\n",
       "      <th>9668</th>\n",
       "      <td>001</td>\n",
       "      <td>230</td>\n",
       "    </tr>\n",
       "  </tbody>\n",
       "</table>\n",
       "</div>"
      ],
      "text/plain": [
       "0    OWNER_VET OWNPDEMP\n",
       "9664       001      290\n",
       "9665       001      909\n",
       "9666       001     1000\n",
       "9667       001      594\n",
       "9668       001      230"
      ]
     },
     "execution_count": 2,
     "metadata": {},
     "output_type": "execute_result"
    }
   ],
   "source": [
    "owner_vet = owner[['OWNER_VET', 'OWNPDEMP']].copy()\n",
    "owner_vet.tail(5)"
   ]
  },
  {
   "cell_type": "code",
   "execution_count": 3,
   "metadata": {},
   "outputs": [],
   "source": [
    "owner_race_number = owner[['OWNER_RACE_LABEL', 'OWNER_SEX_LABEL','OWNPDEMP']].copy()\n"
   ]
  },
  {
   "cell_type": "code",
   "execution_count": 4,
   "metadata": {},
   "outputs": [],
   "source": [
    "import seaborn as sns\n",
    "import matplotlib.pyplot as plt\n",
    "import numpy as np"
   ]
  },
  {
   "cell_type": "code",
   "execution_count": 5,
   "metadata": {},
   "outputs": [
    {
     "name": "stdout",
     "output_type": "stream",
     "text": [
      "<class 'pandas.core.frame.DataFrame'>\n",
      "Int64Index: 4851 entries, 1 to 9668\n",
      "Data columns (total 3 columns):\n",
      " #   Column            Non-Null Count  Dtype \n",
      "---  ------            --------------  ----- \n",
      " 0   OWNER_RACE_LABEL  4851 non-null   object\n",
      " 1   OWNER_SEX_LABEL   4851 non-null   object\n",
      " 2   OWNPDEMP          4851 non-null   int32 \n",
      "dtypes: int32(1), object(2)\n",
      "memory usage: 132.6+ KB\n"
     ]
    }
   ],
   "source": [
    "owner_race_number.OWNPDEMP = owner_race_number.OWNPDEMP.astype(int)\n",
    "owner_race_number.drop(owner_race_number[owner_race_number['OWNER_RACE_LABEL'] == 'All owners of respondent firms'].index, inplace = True)\n",
    "owner_race_number.drop(owner_race_number[owner_race_number['OWNER_RACE_LABEL'] == 'Nonminority'].index, inplace = True)\n",
    "owner_race_number.info()"
   ]
  },
  {
   "cell_type": "code",
   "execution_count": 6,
   "metadata": {},
   "outputs": [
    {
     "data": {
      "text/plain": [
       "<AxesSubplot:xlabel='OWNER_RACE_LABEL'>"
      ]
     },
     "execution_count": 6,
     "metadata": {},
     "output_type": "execute_result"
    },
    {
     "data": {
      "image/png": "[encoded data removed]",
      "text/plain": [
       "<Figure size 432x288 with 1 Axes>"
      ]
     },
     "metadata": {
      "needs_background": "light"
     },
     "output_type": "display_data"
    }
   ],
   "source": [
    "owner_race = owner_race_number.groupby('OWNER_RACE_LABEL')['OWNPDEMP'].sum()\n",
    "owner_race.plot(kind='bar', legend =True)\n"
   ]
  },
  {
   "cell_type": "code",
   "execution_count": 12,
   "metadata": {},
   "outputs": [
    {
     "data": {
      "text/plain": [
       "Text(0, 0.5, 'Number of Owners')"
      ]
     },
     "execution_count": 12,
     "metadata": {},
     "output_type": "execute_result"
    },
    {
     "data": {
      "image/png": "[encoded data removed]",
      "text/plain": [
       "<Figure size 432x288 with 1 Axes>"
      ]
     },
     "metadata": {
      "needs_background": "light"
     },
     "output_type": "display_data"
    }
   ],
   "source": [
    "\n",
    "ax = owner_race.plot(title = 'Number of Owners by Race', kind='bar')\n",
    "ax.set_xlabel('Race')\n",
    "ax.set_ylabel('Number of Owners')"
   ]
  },
  {
   "cell_type": "code",
   "execution_count": 7,
   "metadata": {},
   "outputs": [
    {
     "data": {
      "text/plain": [
       "<AxesSubplot:ylabel='OWNPDEMP'>"
      ]
     },
     "execution_count": 7,
     "metadata": {},
     "output_type": "execute_result"
    },
    {
     "data": {
      "image/png": "[encoded data removed]",
      "text/plain": [
       "<Figure size 432x288 with 1 Axes>"
      ]
     },
     "metadata": {},
     "output_type": "display_data"
    }
   ],
   "source": [
    "owner_race_number.drop(owner_race_number[owner_race_number['OWNER_SEX_LABEL'] == 'All owners of respondent firms'].index, inplace = True)\n",
    "owner_gender = owner_race_number.groupby('OWNER_SEX_LABEL')['OWNPDEMP'].sum()\n",
    "owner_gender.plot(kind='pie', legend=True)"
   ]
  },
  {
   "cell_type": "code",
   "execution_count": 8,
   "metadata": {},
   "outputs": [
    {
     "data": {
      "text/html": [
       "<div>\n",
       "<style scoped>\n",
       "    .dataframe tbody tr th:only-of-type {\n",
       "        vertical-align: middle;\n",
       "    }\n",
       "\n",
       "    .dataframe tbody tr th {\n",
       "        vertical-align: top;\n",
       "    }\n",
       "\n",
       "    .dataframe thead th {\n",
       "        text-align: right;\n",
       "    }\n",
       "</style>\n",
       "<table border=\"1\" class=\"dataframe\">\n",
       "  <thead>\n",
       "    <tr style=\"text-align: right;\">\n",
       "      <th></th>\n",
       "      <th>GEO_ID</th>\n",
       "      <th>NAME</th>\n",
       "      <th>NAICS2017</th>\n",
       "      <th>NAICS2017_LABEL</th>\n",
       "      <th>SEX</th>\n",
       "      <th>SEX_LABEL</th>\n",
       "      <th>ETH_GROUP</th>\n",
       "      <th>ETH_GROUP_LABEL</th>\n",
       "      <th>RACE_GROUP</th>\n",
       "      <th>RACE_GROUP_LABEL</th>\n",
       "      <th>...</th>\n",
       "      <th>PAYANN_F</th>\n",
       "      <th>FIRMPDEMP_S</th>\n",
       "      <th>FIRMPDEMP_S_F</th>\n",
       "      <th>RCPPDEMP_S</th>\n",
       "      <th>RCPPDEMP_S_F</th>\n",
       "      <th>EMP_S</th>\n",
       "      <th>EMP_S_F</th>\n",
       "      <th>PAYANN_S</th>\n",
       "      <th>PAYANN_S_F</th>\n",
       "      <th>us</th>\n",
       "    </tr>\n",
       "  </thead>\n",
       "  <tbody>\n",
       "    <tr>\n",
       "      <th>1</th>\n",
       "      <td>0100000US</td>\n",
       "      <td>United States</td>\n",
       "      <td>00</td>\n",
       "      <td>Total for all sectors</td>\n",
       "      <td>002</td>\n",
       "      <td>Female</td>\n",
       "      <td>020</td>\n",
       "      <td>Hispanic</td>\n",
       "      <td>00</td>\n",
       "      <td>Total</td>\n",
       "      <td>...</td>\n",
       "      <td>None</td>\n",
       "      <td>3.0</td>\n",
       "      <td>None</td>\n",
       "      <td>8.9</td>\n",
       "      <td>None</td>\n",
       "      <td>7.7</td>\n",
       "      <td>None</td>\n",
       "      <td>7.0</td>\n",
       "      <td>None</td>\n",
       "      <td>1</td>\n",
       "    </tr>\n",
       "    <tr>\n",
       "      <th>2</th>\n",
       "      <td>0100000US</td>\n",
       "      <td>United States</td>\n",
       "      <td>00</td>\n",
       "      <td>Total for all sectors</td>\n",
       "      <td>002</td>\n",
       "      <td>Female</td>\n",
       "      <td>020</td>\n",
       "      <td>Hispanic</td>\n",
       "      <td>00</td>\n",
       "      <td>Total</td>\n",
       "      <td>...</td>\n",
       "      <td>None</td>\n",
       "      <td>4.7</td>\n",
       "      <td>None</td>\n",
       "      <td>19.2</td>\n",
       "      <td>None</td>\n",
       "      <td>0.0</td>\n",
       "      <td>None</td>\n",
       "      <td>13.5</td>\n",
       "      <td>None</td>\n",
       "      <td>1</td>\n",
       "    </tr>\n",
       "    <tr>\n",
       "      <th>3</th>\n",
       "      <td>0100000US</td>\n",
       "      <td>United States</td>\n",
       "      <td>00</td>\n",
       "      <td>Total for all sectors</td>\n",
       "      <td>002</td>\n",
       "      <td>Female</td>\n",
       "      <td>020</td>\n",
       "      <td>Hispanic</td>\n",
       "      <td>00</td>\n",
       "      <td>Total</td>\n",
       "      <td>...</td>\n",
       "      <td>None</td>\n",
       "      <td>4.7</td>\n",
       "      <td>None</td>\n",
       "      <td>8.2</td>\n",
       "      <td>None</td>\n",
       "      <td>4.8</td>\n",
       "      <td>None</td>\n",
       "      <td>7.4</td>\n",
       "      <td>None</td>\n",
       "      <td>1</td>\n",
       "    </tr>\n",
       "    <tr>\n",
       "      <th>4</th>\n",
       "      <td>0100000US</td>\n",
       "      <td>United States</td>\n",
       "      <td>00</td>\n",
       "      <td>Total for all sectors</td>\n",
       "      <td>002</td>\n",
       "      <td>Female</td>\n",
       "      <td>020</td>\n",
       "      <td>Hispanic</td>\n",
       "      <td>00</td>\n",
       "      <td>Total</td>\n",
       "      <td>...</td>\n",
       "      <td>None</td>\n",
       "      <td>5.9</td>\n",
       "      <td>None</td>\n",
       "      <td>4.3</td>\n",
       "      <td>None</td>\n",
       "      <td>5.6</td>\n",
       "      <td>None</td>\n",
       "      <td>6.3</td>\n",
       "      <td>None</td>\n",
       "      <td>1</td>\n",
       "    </tr>\n",
       "    <tr>\n",
       "      <th>5</th>\n",
       "      <td>0100000US</td>\n",
       "      <td>United States</td>\n",
       "      <td>00</td>\n",
       "      <td>Total for all sectors</td>\n",
       "      <td>002</td>\n",
       "      <td>Female</td>\n",
       "      <td>020</td>\n",
       "      <td>Hispanic</td>\n",
       "      <td>00</td>\n",
       "      <td>Total</td>\n",
       "      <td>...</td>\n",
       "      <td>None</td>\n",
       "      <td>6.0</td>\n",
       "      <td>None</td>\n",
       "      <td>16.2</td>\n",
       "      <td>None</td>\n",
       "      <td>6.7</td>\n",
       "      <td>None</td>\n",
       "      <td>10.7</td>\n",
       "      <td>None</td>\n",
       "      <td>1</td>\n",
       "    </tr>\n",
       "    <tr>\n",
       "      <th>6</th>\n",
       "      <td>0100000US</td>\n",
       "      <td>United States</td>\n",
       "      <td>00</td>\n",
       "      <td>Total for all sectors</td>\n",
       "      <td>002</td>\n",
       "      <td>Female</td>\n",
       "      <td>020</td>\n",
       "      <td>Hispanic</td>\n",
       "      <td>00</td>\n",
       "      <td>Total</td>\n",
       "      <td>...</td>\n",
       "      <td>None</td>\n",
       "      <td>10.1</td>\n",
       "      <td>None</td>\n",
       "      <td>21.6</td>\n",
       "      <td>None</td>\n",
       "      <td>9.9</td>\n",
       "      <td>None</td>\n",
       "      <td>11.9</td>\n",
       "      <td>None</td>\n",
       "      <td>1</td>\n",
       "    </tr>\n",
       "    <tr>\n",
       "      <th>7</th>\n",
       "      <td>0100000US</td>\n",
       "      <td>United States</td>\n",
       "      <td>00</td>\n",
       "      <td>Total for all sectors</td>\n",
       "      <td>002</td>\n",
       "      <td>Female</td>\n",
       "      <td>020</td>\n",
       "      <td>Hispanic</td>\n",
       "      <td>00</td>\n",
       "      <td>Total</td>\n",
       "      <td>...</td>\n",
       "      <td>None</td>\n",
       "      <td>27.9</td>\n",
       "      <td>None</td>\n",
       "      <td>37.2</td>\n",
       "      <td>None</td>\n",
       "      <td>27.7</td>\n",
       "      <td>None</td>\n",
       "      <td>26.2</td>\n",
       "      <td>None</td>\n",
       "      <td>1</td>\n",
       "    </tr>\n",
       "    <tr>\n",
       "      <th>8</th>\n",
       "      <td>0100000US</td>\n",
       "      <td>United States</td>\n",
       "      <td>00</td>\n",
       "      <td>Total for all sectors</td>\n",
       "      <td>002</td>\n",
       "      <td>Female</td>\n",
       "      <td>020</td>\n",
       "      <td>Hispanic</td>\n",
       "      <td>00</td>\n",
       "      <td>Total</td>\n",
       "      <td>...</td>\n",
       "      <td>None</td>\n",
       "      <td>47.9</td>\n",
       "      <td>None</td>\n",
       "      <td>42.3</td>\n",
       "      <td>None</td>\n",
       "      <td>47.1</td>\n",
       "      <td>None</td>\n",
       "      <td>46.6</td>\n",
       "      <td>None</td>\n",
       "      <td>1</td>\n",
       "    </tr>\n",
       "    <tr>\n",
       "      <th>9</th>\n",
       "      <td>0100000US</td>\n",
       "      <td>United States</td>\n",
       "      <td>00</td>\n",
       "      <td>Total for all sectors</td>\n",
       "      <td>002</td>\n",
       "      <td>Female</td>\n",
       "      <td>020</td>\n",
       "      <td>Hispanic</td>\n",
       "      <td>00</td>\n",
       "      <td>Total</td>\n",
       "      <td>...</td>\n",
       "      <td>None</td>\n",
       "      <td>50.0</td>\n",
       "      <td>None</td>\n",
       "      <td>47.5</td>\n",
       "      <td>None</td>\n",
       "      <td>53.3</td>\n",
       "      <td>None</td>\n",
       "      <td>49.3</td>\n",
       "      <td>None</td>\n",
       "      <td>1</td>\n",
       "    </tr>\n",
       "    <tr>\n",
       "      <th>10</th>\n",
       "      <td>0100000US</td>\n",
       "      <td>United States</td>\n",
       "      <td>00</td>\n",
       "      <td>Total for all sectors</td>\n",
       "      <td>002</td>\n",
       "      <td>Female</td>\n",
       "      <td>020</td>\n",
       "      <td>Hispanic</td>\n",
       "      <td>00</td>\n",
       "      <td>Total</td>\n",
       "      <td>...</td>\n",
       "      <td>None</td>\n",
       "      <td>2.7</td>\n",
       "      <td>None</td>\n",
       "      <td>0.7</td>\n",
       "      <td>None</td>\n",
       "      <td>0.6</td>\n",
       "      <td>None</td>\n",
       "      <td>0.2</td>\n",
       "      <td>None</td>\n",
       "      <td>1</td>\n",
       "    </tr>\n",
       "  </tbody>\n",
       "</table>\n",
       "<p>10 rows × 32 columns</p>\n",
       "</div>"
      ],
      "text/plain": [
       "0      GEO_ID           NAME NAICS2017        NAICS2017_LABEL  SEX SEX_LABEL  \\\n",
       "1   0100000US  United States        00  Total for all sectors  002    Female   \n",
       "2   0100000US  United States        00  Total for all sectors  002    Female   \n",
       "3   0100000US  United States        00  Total for all sectors  002    Female   \n",
       "4   0100000US  United States        00  Total for all sectors  002    Female   \n",
       "5   0100000US  United States        00  Total for all sectors  002    Female   \n",
       "6   0100000US  United States        00  Total for all sectors  002    Female   \n",
       "7   0100000US  United States        00  Total for all sectors  002    Female   \n",
       "8   0100000US  United States        00  Total for all sectors  002    Female   \n",
       "9   0100000US  United States        00  Total for all sectors  002    Female   \n",
       "10  0100000US  United States        00  Total for all sectors  002    Female   \n",
       "\n",
       "0  ETH_GROUP ETH_GROUP_LABEL RACE_GROUP RACE_GROUP_LABEL  ... PAYANN_F  \\\n",
       "1        020        Hispanic         00            Total  ...     None   \n",
       "2        020        Hispanic         00            Total  ...     None   \n",
       "3        020        Hispanic         00            Total  ...     None   \n",
       "4        020        Hispanic         00            Total  ...     None   \n",
       "5        020        Hispanic         00            Total  ...     None   \n",
       "6        020        Hispanic         00            Total  ...     None   \n",
       "7        020        Hispanic         00            Total  ...     None   \n",
       "8        020        Hispanic         00            Total  ...     None   \n",
       "9        020        Hispanic         00            Total  ...     None   \n",
       "10       020        Hispanic         00            Total  ...     None   \n",
       "\n",
       "0  FIRMPDEMP_S FIRMPDEMP_S_F RCPPDEMP_S RCPPDEMP_S_F EMP_S EMP_S_F PAYANN_S  \\\n",
       "1          3.0          None        8.9         None   7.7    None      7.0   \n",
       "2          4.7          None       19.2         None   0.0    None     13.5   \n",
       "3          4.7          None        8.2         None   4.8    None      7.4   \n",
       "4          5.9          None        4.3         None   5.6    None      6.3   \n",
       "5          6.0          None       16.2         None   6.7    None     10.7   \n",
       "6         10.1          None       21.6         None   9.9    None     11.9   \n",
       "7         27.9          None       37.2         None  27.7    None     26.2   \n",
       "8         47.9          None       42.3         None  47.1    None     46.6   \n",
       "9         50.0          None       47.5         None  53.3    None     49.3   \n",
       "10         2.7          None        0.7         None   0.6    None      0.2   \n",
       "\n",
       "0  PAYANN_S_F us  \n",
       "1        None  1  \n",
       "2        None  1  \n",
       "3        None  1  \n",
       "4        None  1  \n",
       "5        None  1  \n",
       "6        None  1  \n",
       "7        None  1  \n",
       "8        None  1  \n",
       "9        None  1  \n",
       "10       None  1  \n",
       "\n",
       "[10 rows x 32 columns]"
      ]
     },
     "execution_count": 8,
     "metadata": {},
     "output_type": "execute_result"
    }
   ],
   "source": [
    "company = pd.read_json('company.json')\n",
    "company.columns = company.iloc[0]\n",
    "company = company[1:]\n",
    "company.columns\n",
    "company.head(10)\n"
   ]
  },
  {
   "cell_type": "code",
   "execution_count": null,
   "metadata": {},
   "outputs": [],
   "source": [
    "company['SEX_LABEL', 'RACE_GROUP_LABEL', ]\n",
    "owner_gender = owner_race_number.groupby('OWNER_SEX_LABEL')['OWNPDEMP'].sum()\n",
    "owner_gender.plot(kind='pie', legend=True)"
   ]
  },
  {
   "cell_type": "code",
   "execution_count": 9,
   "metadata": {},
   "outputs": [
    {
     "data": {
      "text/html": [
       "<div>\n",
       "<style scoped>\n",
       "    .dataframe tbody tr th:only-of-type {\n",
       "        vertical-align: middle;\n",
       "    }\n",
       "\n",
       "    .dataframe tbody tr th {\n",
       "        vertical-align: top;\n",
       "    }\n",
       "\n",
       "    .dataframe thead th {\n",
       "        text-align: right;\n",
       "    }\n",
       "</style>\n",
       "<table border=\"1\" class=\"dataframe\">\n",
       "  <thead>\n",
       "    <tr style=\"text-align: right;\">\n",
       "      <th></th>\n",
       "      <th>GEO_ID</th>\n",
       "      <th>NAME</th>\n",
       "      <th>NAICS2017</th>\n",
       "      <th>NAICS2017_LABEL</th>\n",
       "      <th>SEX</th>\n",
       "      <th>SEX_LABEL</th>\n",
       "      <th>ETH_GROUP</th>\n",
       "      <th>ETH_GROUP_LABEL</th>\n",
       "      <th>RACE_GROUP</th>\n",
       "      <th>RACE_GROUP_LABEL</th>\n",
       "      <th>...</th>\n",
       "      <th>RCPPDEMP_PCT_S_F</th>\n",
       "      <th>EMP_S</th>\n",
       "      <th>EMP_S_F</th>\n",
       "      <th>EMP_PCT_S</th>\n",
       "      <th>EMP_PCT_S_F</th>\n",
       "      <th>PAYANN_S</th>\n",
       "      <th>PAYANN_S_F</th>\n",
       "      <th>PAYANN_PCT_S</th>\n",
       "      <th>PAYANN_PCT_S_F</th>\n",
       "      <th>us</th>\n",
       "    </tr>\n",
       "  </thead>\n",
       "  <tbody>\n",
       "    <tr>\n",
       "      <th>1</th>\n",
       "      <td>0100000US</td>\n",
       "      <td>United States</td>\n",
       "      <td>00</td>\n",
       "      <td>Total for all sectors</td>\n",
       "      <td>001</td>\n",
       "      <td>Total</td>\n",
       "      <td>001</td>\n",
       "      <td>Total</td>\n",
       "      <td>00</td>\n",
       "      <td>Total</td>\n",
       "      <td>...</td>\n",
       "      <td>None</td>\n",
       "      <td>4.8</td>\n",
       "      <td>None</td>\n",
       "      <td>1.3</td>\n",
       "      <td>None</td>\n",
       "      <td>3.9</td>\n",
       "      <td>None</td>\n",
       "      <td>2.9</td>\n",
       "      <td>None</td>\n",
       "      <td>1</td>\n",
       "    </tr>\n",
       "  </tbody>\n",
       "</table>\n",
       "<p>1 rows × 50 columns</p>\n",
       "</div>"
      ],
      "text/plain": [
       "0     GEO_ID           NAME NAICS2017        NAICS2017_LABEL  SEX SEX_LABEL  \\\n",
       "1  0100000US  United States        00  Total for all sectors  001     Total   \n",
       "\n",
       "0 ETH_GROUP ETH_GROUP_LABEL RACE_GROUP RACE_GROUP_LABEL  ... RCPPDEMP_PCT_S_F  \\\n",
       "1       001           Total         00            Total  ...             None   \n",
       "\n",
       "0 EMP_S EMP_S_F EMP_PCT_S EMP_PCT_S_F PAYANN_S PAYANN_S_F PAYANN_PCT_S  \\\n",
       "1   4.8    None       1.3        None      3.9       None          2.9   \n",
       "\n",
       "0 PAYANN_PCT_S_F us  \n",
       "1           None  1  \n",
       "\n",
       "[1 rows x 50 columns]"
      ]
     },
     "execution_count": 9,
     "metadata": {},
     "output_type": "execute_result"
    }
   ],
   "source": [
    "technology = pd.read_json('technology.json')\n",
    "technology.columns = technology.iloc[0]\n",
    "technology = technology[1:]\n",
    "technology.head(1)"
   ]
  },
  {
   "cell_type": "code",
   "execution_count": 37,
   "metadata": {},
   "outputs": [
    {
     "data": {
      "text/plain": [
       "Index(['GEO_ID', 'NAME', 'NAICS2017', 'NAICS2017_LABEL', 'SEX', 'SEX_LABEL',\n",
       "       'ETH_GROUP', 'ETH_GROUP_LABEL', 'RACE_GROUP', 'RACE_GROUP_LABEL',\n",
       "       'VET_GROUP', 'VET_GROUP_LABEL', 'QDESC', 'QDESC_LABEL', 'BUSCHAR',\n",
       "       'BUSCHAR_LABEL', 'YEAR', 'FIRMPDEMP', 'FIRMPDEMP_F', 'FIRMPDEMP_PCT',\n",
       "       'FIRMPDEMP_PCT_F', 'RCPPDEMP', 'RCPPDEMP_F', 'RCPPDEMP_PCT',\n",
       "       'RCPPDEMP_PCT_F', 'EMP', 'EMP_F', 'EMP_PCT', 'EMP_PCT_F', 'PAYANN',\n",
       "       'PAYANN_F', 'PAYANN_PCT', 'PAYANN_PCT_F', 'FIRMPDEMP_S',\n",
       "       'FIRMPDEMP_S_F', 'FIRMPDEMP_PCT_S', 'FIRMPDEMP_PCT_S_F', 'RCPPDEMP_S',\n",
       "       'RCPPDEMP_S_F', 'RCPPDEMP_PCT_S', 'RCPPDEMP_PCT_S_F', 'EMP_S',\n",
       "       'EMP_S_F', 'EMP_PCT_S', 'EMP_PCT_S_F', 'PAYANN_S', 'PAYANN_S_F',\n",
       "       'PAYANN_PCT_S', 'PAYANN_PCT_S_F', 'QDESC_LABEL', 'us'],\n",
       "      dtype='object', name=0)"
      ]
     },
     "execution_count": 37,
     "metadata": {},
     "output_type": "execute_result"
    }
   ],
   "source": [
    "business = pd.read_json('business-characteristics.json')\n",
    "business.columns = business.iloc[0]\n",
    "business = business[1:]\n",
    "business.columns"
   ]
  },
  {
   "cell_type": "code",
   "execution_count": 42,
   "metadata": {},
   "outputs": [
    {
     "data": {
      "text/html": [
       "<div>\n",
       "<style scoped>\n",
       "    .dataframe tbody tr th:only-of-type {\n",
       "        vertical-align: middle;\n",
       "    }\n",
       "\n",
       "    .dataframe tbody tr th {\n",
       "        vertical-align: top;\n",
       "    }\n",
       "\n",
       "    .dataframe thead th {\n",
       "        text-align: right;\n",
       "    }\n",
       "</style>\n",
       "<table border=\"1\" class=\"dataframe\">\n",
       "  <thead>\n",
       "    <tr style=\"text-align: right;\">\n",
       "      <th></th>\n",
       "      <th>SEX_LABEL</th>\n",
       "      <th>RACE_GROUP_LABEL</th>\n",
       "      <th>EMP</th>\n",
       "    </tr>\n",
       "  </thead>\n",
       "  <tbody>\n",
       "    <tr>\n",
       "      <th>1</th>\n",
       "      <td>Total</td>\n",
       "      <td>Total</td>\n",
       "      <td>128196406</td>\n",
       "    </tr>\n",
       "    <tr>\n",
       "      <th>2</th>\n",
       "      <td>Total</td>\n",
       "      <td>Total</td>\n",
       "      <td>1872957</td>\n",
       "    </tr>\n",
       "  </tbody>\n",
       "</table>\n",
       "</div>"
      ],
      "text/plain": [
       "0 SEX_LABEL RACE_GROUP_LABEL        EMP\n",
       "1     Total            Total  128196406\n",
       "2     Total            Total    1872957"
      ]
     },
     "execution_count": 42,
     "metadata": {},
     "output_type": "execute_result"
    }
   ],
   "source": [
    "business_new = business[['SEX_LABEL', 'RACE_GROUP_LABEL', 'EMP']]\n",
    "business_new.head(2)"
   ]
  },
  {
   "cell_type": "code",
   "execution_count": 43,
   "metadata": {},
   "outputs": [
    {
     "name": "stdout",
     "output_type": "stream",
     "text": [
      "<class 'pandas.core.frame.DataFrame'>\n",
      "Int64Index: 2395 entries, 9 to 8092\n",
      "Data columns (total 3 columns):\n",
      " #   Column            Non-Null Count  Dtype \n",
      "---  ------            --------------  ----- \n",
      " 0   SEX_LABEL         2395 non-null   object\n",
      " 1   RACE_GROUP_LABEL  2395 non-null   object\n",
      " 2   EMP               2395 non-null   object\n",
      "dtypes: object(3)\n",
      "memory usage: 74.8+ KB\n"
     ]
    }
   ],
   "source": [
    "gender = ['Male', 'Female']\n",
    "business_new = business_new[business_new['SEX_LABEL'].isin (gender)]\n",
    "business_new.info()"
   ]
  },
  {
   "cell_type": "code",
   "execution_count": 44,
   "metadata": {},
   "outputs": [],
   "source": [
    "business_new.EMP = business_new.EMP.astype(int)"
   ]
  },
  {
   "cell_type": "code",
   "execution_count": 45,
   "metadata": {},
   "outputs": [],
   "source": [
    "business_new = business_new.groupby('SEX_LABEL')['EMP'].sum()\n"
   ]
  },
  {
   "cell_type": "code",
   "execution_count": 46,
   "metadata": {},
   "outputs": [
    {
     "data": {
      "text/plain": [
       "<AxesSubplot:ylabel='EMP'>"
      ]
     },
     "execution_count": 46,
     "metadata": {},
     "output_type": "execute_result"
    },
    {
     "data": {
      "image/png": "[encoded data removed]",
      "text/plain": [
       "<Figure size 432x288 with 1 Axes>"
      ]
     },
     "metadata": {},
     "output_type": "display_data"
    }
   ],
   "source": [
    "business_new.plot(kind='pie', legend=True)"
   ]
  }
 ],
 "metadata": {
  "kernelspec": {
   "display_name": "Python 3.9.12 ('base')",
   "language": "python",
   "name": "python3"
  },
  "language_info": {
   "codemirror_mode": {
    "name": "ipython",
    "version": 3
   },
   "file_extension": ".py",
   "mimetype": "text/x-python",
   "name": "python",
   "nbconvert_exporter": "python",
   "pygments_lexer": "ipython3",
   "version": "3.9.12"
  },
  "orig_nbformat": 4,
  "vscode": {
   "interpreter": {
    "hash": "838c189ea11782a94abe2f947e1d60dc606b228f16bfdf97db14acfb3c63e65f"
   }
  }
 },
 "nbformat": 4,
 "nbformat_minor": 2
}
